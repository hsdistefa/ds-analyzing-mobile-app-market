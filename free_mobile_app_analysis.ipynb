{
 "cells": [
  {
   "cell_type": "markdown",
   "metadata": {},
   "source": [
    "# Analyzing the Free Mobile App Market\n",
    "--DESCRIPTION 1-2 paragraphs explaining what the project is about and its goals--\n",
    "As of September 2018, there were approximately 2 million iOS apps available on the App Store, and 2.1 million Android apps on Google Play."
   ]
  },
  {
   "cell_type": "markdown",
   "metadata": {},
   "source": [
    "Collecting data for over four million apps requires a significant amount of time and money, so we'll try to analyze a sample of the data instead. To avoid spending resources on collecting new data ourselves, we should first try to see whether we can find any relevant existing data at no cost. Luckily, these are two data sets that seem suitable for our goals:\n",
    "\n",
    "- A [data set](https://www.kaggle.com/lava18/google-play-store-apps/home) containing data about approximately ten thousand Android apps from Google Play — the data was collected in August 2018\n",
    "- A [data set](https://www.kaggle.com/ramamet4/app-store-apple-data-set-10k-apps/home) containing data about approximately seven thousand iOS apps from the App Store — the data was collected in July 2017\n",
    "We'll start by opening and exploring these two data sets. "
   ]
  },
  {
   "cell_type": "code",
   "execution_count": 1,
   "metadata": {},
   "outputs": [],
   "source": [
    "import pandas as pd\n",
    "import numpy as np\n",
    "import matplotlib.pyplot as plt\n",
    "%matplotlib inline\n",
    "\n",
    "def explore_data(dataset, start, end, rows_and_columns=False):\n",
    "    dataset_slice = dataset[start:end]\n",
    "    for row in dataset_slice:\n",
    "        print(row)\n",
    "        print('\\n')\n",
    "        \n",
    "    if rows_and_columns:\n",
    "        print('Number of rows:', len(dataset))\n",
    "        print('Number of columns:', len(dataset[0]))"
   ]
  },
  {
   "cell_type": "code",
   "execution_count": 2,
   "metadata": {},
   "outputs": [],
   "source": [
    "google_store_df = pd.read_csv('googleplaystore.csv')\n",
    "apple_store_df = pd.read_csv('AppleStore.csv')"
   ]
  },
  {
   "cell_type": "markdown",
   "metadata": {},
   "source": [
    "Let's look at the first few rows of the Google Play store data:"
   ]
  },
  {
   "cell_type": "code",
   "execution_count": 6,
   "metadata": {},
   "outputs": [
    {
     "name": "stdout",
     "output_type": "stream",
     "text": [
      "Google Play store \n",
      "          # of apps:    10841 \n",
      "          # of columns: 13\n",
      "      \n",
      "                                                 App        Category  Rating  \\\n",
      "0     Photo Editor & Candy Camera & Grid & ScrapBook  ART_AND_DESIGN     4.1   \n",
      "1                                Coloring book moana  ART_AND_DESIGN     3.9   \n",
      "2  U Launcher Lite – FREE Live Cool Themes, Hide ...  ART_AND_DESIGN     4.7   \n",
      "\n",
      "  Reviews  Size    Installs  Type Price Content Rating  \\\n",
      "0     159   19M     10,000+  Free     0       Everyone   \n",
      "1     967   14M    500,000+  Free     0       Everyone   \n",
      "2   87510  8.7M  5,000,000+  Free     0       Everyone   \n",
      "\n",
      "                      Genres      Last Updated Current Ver   Android Ver  \n",
      "0               Art & Design   January 7, 2018       1.0.0  4.0.3 and up  \n",
      "1  Art & Design;Pretend Play  January 15, 2018       2.0.0  4.0.3 and up  \n",
      "2               Art & Design    August 1, 2018       1.2.4  4.0.3 and up  \n"
     ]
    }
   ],
   "source": [
    "print('''Google Play store \n",
    "          # of apps:    {} \n",
    "          # of columns: {}\n",
    "      '''.format(*google_store_df.shape))\n",
    "print(google_store_df.head(3))"
   ]
  },
  {
   "cell_type": "markdown",
   "metadata": {},
   "source": [
    "We see that the Google Play data set has 10841 apps and 13 columns. Ata quick glance, the oclumns that might be useful for the purpose of our analysis are 'App', 'Category', 'Reviews', 'Installs', 'Type', 'Price', and 'Genres'.\n",
    "\n",
    "Now let's look at the iOS App store data set."
   ]
  },
  {
   "cell_type": "code",
   "execution_count": 5,
   "metadata": {},
   "outputs": [
    {
     "name": "stdout",
     "output_type": "stream",
     "text": [
      "Apple store \n",
      "          # of apps:    7197 \n",
      "          # of columns: 17\n",
      "      \n",
      "   Unnamed: 0         id                                       track_name  \\\n",
      "0           1  281656475                                  PAC-MAN Premium   \n",
      "1           2  281796108                        Evernote - stay organized   \n",
      "2           3  281940292  WeatherBug - Local Weather, Radar, Maps, Alerts   \n",
      "\n",
      "   size_bytes currency  price  rating_count_tot  rating_count_ver  \\\n",
      "0   100788224      USD   3.99             21292                26   \n",
      "1   158578688      USD   0.00            161065                26   \n",
      "2   100524032      USD   0.00            188583              2822   \n",
      "\n",
      "   user_rating  user_rating_ver    ver cont_rating   prime_genre  \\\n",
      "0          4.0              4.5  6.3.5          4+         Games   \n",
      "1          4.0              3.5  8.2.2          4+  Productivity   \n",
      "2          3.5              4.5  5.0.0          4+       Weather   \n",
      "\n",
      "   sup_devices.num  ipadSc_urls.num  lang.num  vpp_lic  \n",
      "0               38                5        10        1  \n",
      "1               37                5        23        1  \n",
      "2               37                5         3        1  \n"
     ]
    }
   ],
   "source": [
    "print('''Apple store \n",
    "          # of apps:    {} \n",
    "          # of columns: {}\n",
    "      '''.format(*apple_store_df.shape))\n",
    "print(apple_store_df.head(3))"
   ]
  }
 ],
 "metadata": {
  "kernelspec": {
   "display_name": "Python 3",
   "language": "python",
   "name": "python3"
  },
  "language_info": {
   "codemirror_mode": {
    "name": "ipython",
    "version": 3
   },
   "file_extension": ".py",
   "mimetype": "text/x-python",
   "name": "python",
   "nbconvert_exporter": "python",
   "pygments_lexer": "ipython3",
   "version": "3.6.7"
  }
 },
 "nbformat": 4,
 "nbformat_minor": 2
}
