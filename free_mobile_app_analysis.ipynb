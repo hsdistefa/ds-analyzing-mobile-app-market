{
 "cells": [
  {
   "cell_type": "markdown",
   "metadata": {},
   "source": [
    "# Analyzing the Free Mobile App Market\n",
    "--DESCRIPTION 1-2 paragraphs explaining what the project is about and its goals--\n",
    "As of September 2018, there were approximately 2 million iOS apps available on the App Store, and 2.1 million Android apps on Google Play."
   ]
  },
  {
   "cell_type": "markdown",
   "metadata": {},
   "source": [
    "### Loading the Data and First Look\n",
    "Collecting data for over four million apps requires a significant amount of time and money, so we'll try to analyze a sample of the data instead. To avoid spending resources on collecting new data ourselves, we should first try to see whether we can find any relevant existing data at no cost. Luckily, these are two data sets that seem suitable for our goals:\n",
    "\n",
    "- A [data set](https://www.kaggle.com/lava18/google-play-store-apps/home) containing data about approximately ten thousand Android apps from Google Play — the data was collected in August 2018\n",
    "- A [data set](https://www.kaggle.com/ramamet4/app-store-apple-data-set-10k-apps/home) containing data about approximately seven thousand iOS apps from the App Store — the data was collected in July 2017\n",
    "We'll start by opening and exploring these two data sets. "
   ]
  },
  {
   "cell_type": "code",
   "execution_count": 1,
   "metadata": {},
   "outputs": [],
   "source": [
    "import pandas as pd\n",
    "import numpy as np\n",
    "import matplotlib.pyplot as plt\n",
    "%matplotlib inline\n",
    "\n",
    "def explore_data(dataset, start, end, rows_and_columns=False):\n",
    "    dataset_slice = dataset[start:end]\n",
    "    for row in dataset_slice:\n",
    "        print(row)\n",
    "        print('\\n')\n",
    "        \n",
    "    if rows_and_columns:\n",
    "        print('Number of rows:', len(dataset))\n",
    "        print('Number of columns:', len(dataset[0]))"
   ]
  },
  {
   "cell_type": "code",
   "execution_count": 2,
   "metadata": {},
   "outputs": [],
   "source": [
    "google_store_df = pd.read_csv('googleplaystore.csv')\n",
    "apple_store_df = pd.read_csv('AppleStore.csv')"
   ]
  },
  {
   "cell_type": "markdown",
   "metadata": {},
   "source": [
    "Let's look at the first few rows of the Google Play store data:"
   ]
  },
  {
   "cell_type": "code",
   "execution_count": 3,
   "metadata": {},
   "outputs": [
    {
     "name": "stdout",
     "output_type": "stream",
     "text": [
      "Google Play store \n",
      "          # of apps:    10841 \n",
      "          # of columns: 13\n",
      "      \n"
     ]
    },
    {
     "data": {
      "text/html": [
       "<div>\n",
       "<style scoped>\n",
       "    .dataframe tbody tr th:only-of-type {\n",
       "        vertical-align: middle;\n",
       "    }\n",
       "\n",
       "    .dataframe tbody tr th {\n",
       "        vertical-align: top;\n",
       "    }\n",
       "\n",
       "    .dataframe thead th {\n",
       "        text-align: right;\n",
       "    }\n",
       "</style>\n",
       "<table border=\"1\" class=\"dataframe\">\n",
       "  <thead>\n",
       "    <tr style=\"text-align: right;\">\n",
       "      <th></th>\n",
       "      <th>App</th>\n",
       "      <th>Category</th>\n",
       "      <th>Rating</th>\n",
       "      <th>Reviews</th>\n",
       "      <th>Size</th>\n",
       "      <th>Installs</th>\n",
       "      <th>Type</th>\n",
       "      <th>Price</th>\n",
       "      <th>Content Rating</th>\n",
       "      <th>Genres</th>\n",
       "      <th>Last Updated</th>\n",
       "      <th>Current Ver</th>\n",
       "      <th>Android Ver</th>\n",
       "    </tr>\n",
       "  </thead>\n",
       "  <tbody>\n",
       "    <tr>\n",
       "      <th>0</th>\n",
       "      <td>Photo Editor &amp; Candy Camera &amp; Grid &amp; ScrapBook</td>\n",
       "      <td>ART_AND_DESIGN</td>\n",
       "      <td>4.1</td>\n",
       "      <td>159</td>\n",
       "      <td>19M</td>\n",
       "      <td>10,000+</td>\n",
       "      <td>Free</td>\n",
       "      <td>0</td>\n",
       "      <td>Everyone</td>\n",
       "      <td>Art &amp; Design</td>\n",
       "      <td>January 7, 2018</td>\n",
       "      <td>1.0.0</td>\n",
       "      <td>4.0.3 and up</td>\n",
       "    </tr>\n",
       "    <tr>\n",
       "      <th>1</th>\n",
       "      <td>Coloring book moana</td>\n",
       "      <td>ART_AND_DESIGN</td>\n",
       "      <td>3.9</td>\n",
       "      <td>967</td>\n",
       "      <td>14M</td>\n",
       "      <td>500,000+</td>\n",
       "      <td>Free</td>\n",
       "      <td>0</td>\n",
       "      <td>Everyone</td>\n",
       "      <td>Art &amp; Design;Pretend Play</td>\n",
       "      <td>January 15, 2018</td>\n",
       "      <td>2.0.0</td>\n",
       "      <td>4.0.3 and up</td>\n",
       "    </tr>\n",
       "    <tr>\n",
       "      <th>2</th>\n",
       "      <td>U Launcher Lite – FREE Live Cool Themes, Hide ...</td>\n",
       "      <td>ART_AND_DESIGN</td>\n",
       "      <td>4.7</td>\n",
       "      <td>87510</td>\n",
       "      <td>8.7M</td>\n",
       "      <td>5,000,000+</td>\n",
       "      <td>Free</td>\n",
       "      <td>0</td>\n",
       "      <td>Everyone</td>\n",
       "      <td>Art &amp; Design</td>\n",
       "      <td>August 1, 2018</td>\n",
       "      <td>1.2.4</td>\n",
       "      <td>4.0.3 and up</td>\n",
       "    </tr>\n",
       "  </tbody>\n",
       "</table>\n",
       "</div>"
      ],
      "text/plain": [
       "                                                 App        Category  Rating  \\\n",
       "0     Photo Editor & Candy Camera & Grid & ScrapBook  ART_AND_DESIGN     4.1   \n",
       "1                                Coloring book moana  ART_AND_DESIGN     3.9   \n",
       "2  U Launcher Lite – FREE Live Cool Themes, Hide ...  ART_AND_DESIGN     4.7   \n",
       "\n",
       "  Reviews  Size    Installs  Type Price Content Rating  \\\n",
       "0     159   19M     10,000+  Free     0       Everyone   \n",
       "1     967   14M    500,000+  Free     0       Everyone   \n",
       "2   87510  8.7M  5,000,000+  Free     0       Everyone   \n",
       "\n",
       "                      Genres      Last Updated Current Ver   Android Ver  \n",
       "0               Art & Design   January 7, 2018       1.0.0  4.0.3 and up  \n",
       "1  Art & Design;Pretend Play  January 15, 2018       2.0.0  4.0.3 and up  \n",
       "2               Art & Design    August 1, 2018       1.2.4  4.0.3 and up  "
      ]
     },
     "execution_count": 3,
     "metadata": {},
     "output_type": "execute_result"
    }
   ],
   "source": [
    "print('''Google Play store \n",
    "          # of apps:    {} \n",
    "          # of columns: {}\n",
    "      '''.format(*google_store_df.shape))\n",
    "google_store_df.head(3)"
   ]
  },
  {
   "cell_type": "markdown",
   "metadata": {},
   "source": [
    "We see that the Google Play data set has 10841 apps and 13 columns. At a quick glance, the columns that might be useful for the purpose of our analysis are 'App', 'Category', 'Reviews', 'Installs', 'Type', 'Price', and 'Genres'.\n",
    "\n",
    "Now let's look at the iOS App store data set."
   ]
  },
  {
   "cell_type": "code",
   "execution_count": 4,
   "metadata": {},
   "outputs": [
    {
     "name": "stdout",
     "output_type": "stream",
     "text": [
      "Apple store \n",
      "          # of apps:    7197 \n",
      "          # of columns: 17\n",
      "      \n"
     ]
    },
    {
     "data": {
      "text/html": [
       "<div>\n",
       "<style scoped>\n",
       "    .dataframe tbody tr th:only-of-type {\n",
       "        vertical-align: middle;\n",
       "    }\n",
       "\n",
       "    .dataframe tbody tr th {\n",
       "        vertical-align: top;\n",
       "    }\n",
       "\n",
       "    .dataframe thead th {\n",
       "        text-align: right;\n",
       "    }\n",
       "</style>\n",
       "<table border=\"1\" class=\"dataframe\">\n",
       "  <thead>\n",
       "    <tr style=\"text-align: right;\">\n",
       "      <th></th>\n",
       "      <th>Unnamed: 0</th>\n",
       "      <th>id</th>\n",
       "      <th>track_name</th>\n",
       "      <th>size_bytes</th>\n",
       "      <th>currency</th>\n",
       "      <th>price</th>\n",
       "      <th>rating_count_tot</th>\n",
       "      <th>rating_count_ver</th>\n",
       "      <th>user_rating</th>\n",
       "      <th>user_rating_ver</th>\n",
       "      <th>ver</th>\n",
       "      <th>cont_rating</th>\n",
       "      <th>prime_genre</th>\n",
       "      <th>sup_devices.num</th>\n",
       "      <th>ipadSc_urls.num</th>\n",
       "      <th>lang.num</th>\n",
       "      <th>vpp_lic</th>\n",
       "    </tr>\n",
       "  </thead>\n",
       "  <tbody>\n",
       "    <tr>\n",
       "      <th>0</th>\n",
       "      <td>1</td>\n",
       "      <td>281656475</td>\n",
       "      <td>PAC-MAN Premium</td>\n",
       "      <td>100788224</td>\n",
       "      <td>USD</td>\n",
       "      <td>3.99</td>\n",
       "      <td>21292</td>\n",
       "      <td>26</td>\n",
       "      <td>4.0</td>\n",
       "      <td>4.5</td>\n",
       "      <td>6.3.5</td>\n",
       "      <td>4+</td>\n",
       "      <td>Games</td>\n",
       "      <td>38</td>\n",
       "      <td>5</td>\n",
       "      <td>10</td>\n",
       "      <td>1</td>\n",
       "    </tr>\n",
       "    <tr>\n",
       "      <th>1</th>\n",
       "      <td>2</td>\n",
       "      <td>281796108</td>\n",
       "      <td>Evernote - stay organized</td>\n",
       "      <td>158578688</td>\n",
       "      <td>USD</td>\n",
       "      <td>0.00</td>\n",
       "      <td>161065</td>\n",
       "      <td>26</td>\n",
       "      <td>4.0</td>\n",
       "      <td>3.5</td>\n",
       "      <td>8.2.2</td>\n",
       "      <td>4+</td>\n",
       "      <td>Productivity</td>\n",
       "      <td>37</td>\n",
       "      <td>5</td>\n",
       "      <td>23</td>\n",
       "      <td>1</td>\n",
       "    </tr>\n",
       "    <tr>\n",
       "      <th>2</th>\n",
       "      <td>3</td>\n",
       "      <td>281940292</td>\n",
       "      <td>WeatherBug - Local Weather, Radar, Maps, Alerts</td>\n",
       "      <td>100524032</td>\n",
       "      <td>USD</td>\n",
       "      <td>0.00</td>\n",
       "      <td>188583</td>\n",
       "      <td>2822</td>\n",
       "      <td>3.5</td>\n",
       "      <td>4.5</td>\n",
       "      <td>5.0.0</td>\n",
       "      <td>4+</td>\n",
       "      <td>Weather</td>\n",
       "      <td>37</td>\n",
       "      <td>5</td>\n",
       "      <td>3</td>\n",
       "      <td>1</td>\n",
       "    </tr>\n",
       "  </tbody>\n",
       "</table>\n",
       "</div>"
      ],
      "text/plain": [
       "   Unnamed: 0         id                                       track_name  \\\n",
       "0           1  281656475                                  PAC-MAN Premium   \n",
       "1           2  281796108                        Evernote - stay organized   \n",
       "2           3  281940292  WeatherBug - Local Weather, Radar, Maps, Alerts   \n",
       "\n",
       "   size_bytes currency  price  rating_count_tot  rating_count_ver  \\\n",
       "0   100788224      USD   3.99             21292                26   \n",
       "1   158578688      USD   0.00            161065                26   \n",
       "2   100524032      USD   0.00            188583              2822   \n",
       "\n",
       "   user_rating  user_rating_ver    ver cont_rating   prime_genre  \\\n",
       "0          4.0              4.5  6.3.5          4+         Games   \n",
       "1          4.0              3.5  8.2.2          4+  Productivity   \n",
       "2          3.5              4.5  5.0.0          4+       Weather   \n",
       "\n",
       "   sup_devices.num  ipadSc_urls.num  lang.num  vpp_lic  \n",
       "0               38                5        10        1  \n",
       "1               37                5        23        1  \n",
       "2               37                5         3        1  "
      ]
     },
     "execution_count": 4,
     "metadata": {},
     "output_type": "execute_result"
    }
   ],
   "source": [
    "print('''Apple store \n",
    "          # of apps:    {} \n",
    "          # of columns: {}\n",
    "      '''.format(*apple_store_df.shape))\n",
    "apple_store_df.head(3)"
   ]
  },
  {
   "cell_type": "markdown",
   "metadata": {},
   "source": [
    "The Apple Store data set has 7197 apps and the columns that look interesting are 'track_name', 'price', 'rating_count_tot', 'rating_count_ver', and 'prime_genre'. A more complete description of each column can be found in the [documentation](https://www.kaggle.com/ramamet4/app-store-apple-data-set-10k-apps/home)."
   ]
  },
  {
   "cell_type": "markdown",
   "metadata": {},
   "source": [
    "### Data Cleaning\n",
    "Next let's look through the data for possible erroneous input and pare it down to our needs.\n",
    "\n",
    "#### Duplicates and Wrong Data\n",
    "The [Kaggle Discussions](https://www.kaggle.com/lava18/google-play-store-apps/discussion/81616) mention a few mistakes found in the Google Play data:\n",
    "1. Several apps appear more than once in the data: "
   ]
  },
  {
   "cell_type": "code",
   "execution_count": 5,
   "metadata": {},
   "outputs": [
    {
     "name": "stdout",
     "output_type": "stream",
     "text": [
      "Number of duplicate apps: 1181\n"
     ]
    },
    {
     "data": {
      "text/html": [
       "<div>\n",
       "<style scoped>\n",
       "    .dataframe tbody tr th:only-of-type {\n",
       "        vertical-align: middle;\n",
       "    }\n",
       "\n",
       "    .dataframe tbody tr th {\n",
       "        vertical-align: top;\n",
       "    }\n",
       "\n",
       "    .dataframe thead th {\n",
       "        text-align: right;\n",
       "    }\n",
       "</style>\n",
       "<table border=\"1\" class=\"dataframe\">\n",
       "  <thead>\n",
       "    <tr style=\"text-align: right;\">\n",
       "      <th></th>\n",
       "      <th>App</th>\n",
       "      <th>Category</th>\n",
       "      <th>Rating</th>\n",
       "      <th>Reviews</th>\n",
       "      <th>Size</th>\n",
       "      <th>Installs</th>\n",
       "      <th>Type</th>\n",
       "      <th>Price</th>\n",
       "      <th>Content Rating</th>\n",
       "      <th>Genres</th>\n",
       "      <th>Last Updated</th>\n",
       "      <th>Current Ver</th>\n",
       "      <th>Android Ver</th>\n",
       "    </tr>\n",
       "  </thead>\n",
       "  <tbody>\n",
       "    <tr>\n",
       "      <th>1654</th>\n",
       "      <td>Subway Surfers</td>\n",
       "      <td>GAME</td>\n",
       "      <td>4.5</td>\n",
       "      <td>27722264</td>\n",
       "      <td>76M</td>\n",
       "      <td>1,000,000,000+</td>\n",
       "      <td>Free</td>\n",
       "      <td>0</td>\n",
       "      <td>Everyone 10+</td>\n",
       "      <td>Arcade</td>\n",
       "      <td>July 12, 2018</td>\n",
       "      <td>1.90.0</td>\n",
       "      <td>4.1 and up</td>\n",
       "    </tr>\n",
       "    <tr>\n",
       "      <th>1700</th>\n",
       "      <td>Subway Surfers</td>\n",
       "      <td>GAME</td>\n",
       "      <td>4.5</td>\n",
       "      <td>27723193</td>\n",
       "      <td>76M</td>\n",
       "      <td>1,000,000,000+</td>\n",
       "      <td>Free</td>\n",
       "      <td>0</td>\n",
       "      <td>Everyone 10+</td>\n",
       "      <td>Arcade</td>\n",
       "      <td>July 12, 2018</td>\n",
       "      <td>1.90.0</td>\n",
       "      <td>4.1 and up</td>\n",
       "    </tr>\n",
       "    <tr>\n",
       "      <th>1750</th>\n",
       "      <td>Subway Surfers</td>\n",
       "      <td>GAME</td>\n",
       "      <td>4.5</td>\n",
       "      <td>27724094</td>\n",
       "      <td>76M</td>\n",
       "      <td>1,000,000,000+</td>\n",
       "      <td>Free</td>\n",
       "      <td>0</td>\n",
       "      <td>Everyone 10+</td>\n",
       "      <td>Arcade</td>\n",
       "      <td>July 12, 2018</td>\n",
       "      <td>1.90.0</td>\n",
       "      <td>4.1 and up</td>\n",
       "    </tr>\n",
       "    <tr>\n",
       "      <th>1872</th>\n",
       "      <td>Subway Surfers</td>\n",
       "      <td>GAME</td>\n",
       "      <td>4.5</td>\n",
       "      <td>27725352</td>\n",
       "      <td>76M</td>\n",
       "      <td>1,000,000,000+</td>\n",
       "      <td>Free</td>\n",
       "      <td>0</td>\n",
       "      <td>Everyone 10+</td>\n",
       "      <td>Arcade</td>\n",
       "      <td>July 12, 2018</td>\n",
       "      <td>1.90.0</td>\n",
       "      <td>4.1 and up</td>\n",
       "    </tr>\n",
       "    <tr>\n",
       "      <th>1917</th>\n",
       "      <td>Subway Surfers</td>\n",
       "      <td>GAME</td>\n",
       "      <td>4.5</td>\n",
       "      <td>27725352</td>\n",
       "      <td>76M</td>\n",
       "      <td>1,000,000,000+</td>\n",
       "      <td>Free</td>\n",
       "      <td>0</td>\n",
       "      <td>Everyone 10+</td>\n",
       "      <td>Arcade</td>\n",
       "      <td>July 12, 2018</td>\n",
       "      <td>1.90.0</td>\n",
       "      <td>4.1 and up</td>\n",
       "    </tr>\n",
       "    <tr>\n",
       "      <th>2544</th>\n",
       "      <td>Facebook</td>\n",
       "      <td>SOCIAL</td>\n",
       "      <td>4.1</td>\n",
       "      <td>78158306</td>\n",
       "      <td>Varies with device</td>\n",
       "      <td>1,000,000,000+</td>\n",
       "      <td>Free</td>\n",
       "      <td>0</td>\n",
       "      <td>Teen</td>\n",
       "      <td>Social</td>\n",
       "      <td>August 3, 2018</td>\n",
       "      <td>Varies with device</td>\n",
       "      <td>Varies with device</td>\n",
       "    </tr>\n",
       "    <tr>\n",
       "      <th>3896</th>\n",
       "      <td>Subway Surfers</td>\n",
       "      <td>GAME</td>\n",
       "      <td>4.5</td>\n",
       "      <td>27711703</td>\n",
       "      <td>76M</td>\n",
       "      <td>1,000,000,000+</td>\n",
       "      <td>Free</td>\n",
       "      <td>0</td>\n",
       "      <td>Everyone 10+</td>\n",
       "      <td>Arcade</td>\n",
       "      <td>July 12, 2018</td>\n",
       "      <td>1.90.0</td>\n",
       "      <td>4.1 and up</td>\n",
       "    </tr>\n",
       "    <tr>\n",
       "      <th>3943</th>\n",
       "      <td>Facebook</td>\n",
       "      <td>SOCIAL</td>\n",
       "      <td>4.1</td>\n",
       "      <td>78128208</td>\n",
       "      <td>Varies with device</td>\n",
       "      <td>1,000,000,000+</td>\n",
       "      <td>Free</td>\n",
       "      <td>0</td>\n",
       "      <td>Teen</td>\n",
       "      <td>Social</td>\n",
       "      <td>August 3, 2018</td>\n",
       "      <td>Varies with device</td>\n",
       "      <td>Varies with device</td>\n",
       "    </tr>\n",
       "  </tbody>\n",
       "</table>\n",
       "</div>"
      ],
      "text/plain": [
       "                 App Category  Rating   Reviews                Size  \\\n",
       "1654  Subway Surfers     GAME     4.5  27722264                 76M   \n",
       "1700  Subway Surfers     GAME     4.5  27723193                 76M   \n",
       "1750  Subway Surfers     GAME     4.5  27724094                 76M   \n",
       "1872  Subway Surfers     GAME     4.5  27725352                 76M   \n",
       "1917  Subway Surfers     GAME     4.5  27725352                 76M   \n",
       "2544        Facebook   SOCIAL     4.1  78158306  Varies with device   \n",
       "3896  Subway Surfers     GAME     4.5  27711703                 76M   \n",
       "3943        Facebook   SOCIAL     4.1  78128208  Varies with device   \n",
       "\n",
       "            Installs  Type Price Content Rating  Genres    Last Updated  \\\n",
       "1654  1,000,000,000+  Free     0   Everyone 10+  Arcade   July 12, 2018   \n",
       "1700  1,000,000,000+  Free     0   Everyone 10+  Arcade   July 12, 2018   \n",
       "1750  1,000,000,000+  Free     0   Everyone 10+  Arcade   July 12, 2018   \n",
       "1872  1,000,000,000+  Free     0   Everyone 10+  Arcade   July 12, 2018   \n",
       "1917  1,000,000,000+  Free     0   Everyone 10+  Arcade   July 12, 2018   \n",
       "2544  1,000,000,000+  Free     0           Teen  Social  August 3, 2018   \n",
       "3896  1,000,000,000+  Free     0   Everyone 10+  Arcade   July 12, 2018   \n",
       "3943  1,000,000,000+  Free     0           Teen  Social  August 3, 2018   \n",
       "\n",
       "             Current Ver         Android Ver  \n",
       "1654              1.90.0          4.1 and up  \n",
       "1700              1.90.0          4.1 and up  \n",
       "1750              1.90.0          4.1 and up  \n",
       "1872              1.90.0          4.1 and up  \n",
       "1917              1.90.0          4.1 and up  \n",
       "2544  Varies with device  Varies with device  \n",
       "3896              1.90.0          4.1 and up  \n",
       "3943  Varies with device  Varies with device  "
      ]
     },
     "execution_count": 5,
     "metadata": {},
     "output_type": "execute_result"
    }
   ],
   "source": [
    "print('Number of duplicate apps:', len(google_store_df) - google_store_df['App'].nunique())\n",
    "google_store_df[(google_store_df['App'] == 'Subway Surfers') | (google_store_df['App'] == 'Facebook')]"
   ]
  },
  {
   "cell_type": "markdown",
   "metadata": {},
   "source": [
    "Let's find and remove these duplicate entries, but first notice that all of the columns appear to be the same except for the 'Reviews' column, so which do we keep? Rather than throw away the rows randomly, let's get rid of all but the one with the highest number of reviews as it likely has the most up to date information on the app."
   ]
  },
  {
   "cell_type": "code",
   "execution_count": 6,
   "metadata": {},
   "outputs": [
    {
     "name": "stdout",
     "output_type": "stream",
     "text": [
      "Apps remaining in Google Play:  9660\n"
     ]
    },
    {
     "data": {
      "text/html": [
       "<div>\n",
       "<style scoped>\n",
       "    .dataframe tbody tr th:only-of-type {\n",
       "        vertical-align: middle;\n",
       "    }\n",
       "\n",
       "    .dataframe tbody tr th {\n",
       "        vertical-align: top;\n",
       "    }\n",
       "\n",
       "    .dataframe thead th {\n",
       "        text-align: right;\n",
       "    }\n",
       "</style>\n",
       "<table border=\"1\" class=\"dataframe\">\n",
       "  <thead>\n",
       "    <tr style=\"text-align: right;\">\n",
       "      <th></th>\n",
       "      <th>App</th>\n",
       "      <th>Category</th>\n",
       "      <th>Rating</th>\n",
       "      <th>Reviews</th>\n",
       "      <th>Size</th>\n",
       "      <th>Installs</th>\n",
       "      <th>Type</th>\n",
       "      <th>Price</th>\n",
       "      <th>Content Rating</th>\n",
       "      <th>Genres</th>\n",
       "      <th>Last Updated</th>\n",
       "      <th>Current Ver</th>\n",
       "      <th>Android Ver</th>\n",
       "    </tr>\n",
       "  </thead>\n",
       "  <tbody>\n",
       "    <tr>\n",
       "      <th>1917</th>\n",
       "      <td>Subway Surfers</td>\n",
       "      <td>GAME</td>\n",
       "      <td>4.5</td>\n",
       "      <td>27725352</td>\n",
       "      <td>76M</td>\n",
       "      <td>1,000,000,000+</td>\n",
       "      <td>Free</td>\n",
       "      <td>0</td>\n",
       "      <td>Everyone 10+</td>\n",
       "      <td>Arcade</td>\n",
       "      <td>July 12, 2018</td>\n",
       "      <td>1.90.0</td>\n",
       "      <td>4.1 and up</td>\n",
       "    </tr>\n",
       "    <tr>\n",
       "      <th>2544</th>\n",
       "      <td>Facebook</td>\n",
       "      <td>SOCIAL</td>\n",
       "      <td>4.1</td>\n",
       "      <td>78158306</td>\n",
       "      <td>Varies with device</td>\n",
       "      <td>1,000,000,000+</td>\n",
       "      <td>Free</td>\n",
       "      <td>0</td>\n",
       "      <td>Teen</td>\n",
       "      <td>Social</td>\n",
       "      <td>August 3, 2018</td>\n",
       "      <td>Varies with device</td>\n",
       "      <td>Varies with device</td>\n",
       "    </tr>\n",
       "  </tbody>\n",
       "</table>\n",
       "</div>"
      ],
      "text/plain": [
       "                 App Category  Rating   Reviews                Size  \\\n",
       "1917  Subway Surfers     GAME     4.5  27725352                 76M   \n",
       "2544        Facebook   SOCIAL     4.1  78158306  Varies with device   \n",
       "\n",
       "            Installs  Type Price Content Rating  Genres    Last Updated  \\\n",
       "1917  1,000,000,000+  Free     0   Everyone 10+  Arcade   July 12, 2018   \n",
       "2544  1,000,000,000+  Free     0           Teen  Social  August 3, 2018   \n",
       "\n",
       "             Current Ver         Android Ver  \n",
       "1917              1.90.0          4.1 and up  \n",
       "2544  Varies with device  Varies with device  "
      ]
     },
     "execution_count": 6,
     "metadata": {},
     "output_type": "execute_result"
    }
   ],
   "source": [
    "google_store_df = google_store_df.sort_values('Reviews').drop_duplicates(subset='App', keep='last').sort_index()\n",
    "print('Apps remaining in Google Play: ', len(google_store_df))\n",
    "google_store_df[(google_store_df['App'] == 'Subway Surfers') | (google_store_df['App'] == 'Facebook')]"
   ]
  },
  {
   "cell_type": "markdown",
   "metadata": {},
   "source": [
    "2. Row 10472 has displaced columns where 'Category' is '1.9' and the 'Rating' is '19' even though the rating is supposed to be in a range 0-5. Let's remove that row as well."
   ]
  },
  {
   "cell_type": "code",
   "execution_count": 7,
   "metadata": {},
   "outputs": [
    {
     "data": {
      "text/plain": [
       "App               Life Made WI-Fi Touchscreen Photo Frame\n",
       "Category                                              1.9\n",
       "Rating                                                 19\n",
       "Reviews                                              3.0M\n",
       "Size                                               1,000+\n",
       "Installs                                             Free\n",
       "Type                                                    0\n",
       "Price                                            Everyone\n",
       "Content Rating                                        NaN\n",
       "Genres                                  February 11, 2018\n",
       "Last Updated                                       1.0.19\n",
       "Current Ver                                    4.0 and up\n",
       "Android Ver                                           NaN\n",
       "Name: 10472, dtype: object"
      ]
     },
     "execution_count": 7,
     "metadata": {},
     "output_type": "execute_result"
    }
   ],
   "source": [
    "google_store_df.loc[10472]"
   ]
  },
  {
   "cell_type": "code",
   "execution_count": 8,
   "metadata": {},
   "outputs": [
    {
     "name": "stdout",
     "output_type": "stream",
     "text": [
      "Apps remaining in Google Play: 9659\n"
     ]
    }
   ],
   "source": [
    "google_store_df.drop(10472, inplace=True)\n",
    "print('Apps remaining in Google Play:', len(google_store_df))"
   ]
  },
  {
   "cell_type": "markdown",
   "metadata": {},
   "source": [
    "#### Non-English Apps\n",
    "\n",
    "Looking through the data sets you'll notice the names of some of the apps suggest they are not directed toward an English-speaking audience. Below, we see an example from both data sets:"
   ]
  },
  {
   "cell_type": "code",
   "execution_count": 9,
   "metadata": {},
   "outputs": [
    {
     "name": "stdout",
     "output_type": "stream",
     "text": [
      "搜狐新闻—新闻热点资讯掌上阅读软件\n"
     ]
    },
    {
     "data": {
      "text/plain": [
       "'RMEduS - 음성인식을 활용한 R 프로그래밍 실습 시스템'"
      ]
     },
     "execution_count": 9,
     "metadata": {},
     "output_type": "execute_result"
    }
   ],
   "source": [
    "print(apple_store_df.loc[814, 'track_name'])\n",
    "google_store_df.loc[4550, 'App']"
   ]
  },
  {
   "cell_type": "markdown",
   "metadata": {},
   "source": [
    "Since we are looking at the free app market for a primarily English-speaking audience, let's remove the non-English apps from the data set. One way to go about doing this is to remove all apps with names only containing letters from the English alphabet, the digits 0-9, and common punctuation marks and symbols (?, ;, *, /, etc.)\n",
    "\n",
    "By the ASCII standard, all of these characters have an encoded value between 0 and 127, so if we remove all names with encoded values greater than 127 we will be left with the apps only with standard English characters.\n",
    "\n",
    "However, many characters commonly used in app names such as <sup>TM</sup>, --, and emojis fall outside of this range so we will only remove an app if it has more than three non-ASCII characters. This approach isn't perfect but we don't want to spend too much time on optimization."
   ]
  },
  {
   "cell_type": "code",
   "execution_count": 10,
   "metadata": {},
   "outputs": [
    {
     "name": "stdout",
     "output_type": "stream",
     "text": [
      "Removed 45 non-english apps from Google Play data\n",
      "Apps remaining in Google Play: 9614\n",
      "\n",
      "Removed 1014 non-english apps from Apple Store data\n",
      "Apps remaining in Apple Store: 6183\n"
     ]
    }
   ],
   "source": [
    "def has_mostly_english_chars(word):\n",
    "    return sum([1 if ord(c) > 127 else 0 for c in word]) <= 3\n",
    "\n",
    "gp_english_apps_boolean = google_store_df['App'].apply(lambda x: has_mostly_english_chars(x))\n",
    "google_store_df = google_store_df[gp_english_apps_boolean]\n",
    "\n",
    "ios_english_apps_boolean = apple_store_df['track_name'].apply(lambda x: has_mostly_english_chars(x))\n",
    "apple_store_df = apple_store_df[ios_english_apps_boolean]\n",
    "\n",
    "removal_fs = '''Removed {0} {1} apps from Google Play data\n",
    "Apps remaining in Google Play: {2}\n",
    "\n",
    "Removed {3} {1} apps from Apple Store data\n",
    "Apps remaining in Apple Store: {4}'''\n",
    "\n",
    "print(removal_fs.format(len(gp_english_apps_boolean) - np.sum(gp_english_apps_boolean), \n",
    "                        'non-english',\n",
    "                        len(google_store_df),\n",
    "                        len(ios_english_apps_boolean) - np.sum(ios_english_apps_boolean),\n",
    "                        len(apple_store_df)))"
   ]
  },
  {
   "cell_type": "code",
   "execution_count": 11,
   "metadata": {},
   "outputs": [
    {
     "data": {
      "text/html": [
       "<div>\n",
       "<style scoped>\n",
       "    .dataframe tbody tr th:only-of-type {\n",
       "        vertical-align: middle;\n",
       "    }\n",
       "\n",
       "    .dataframe tbody tr th {\n",
       "        vertical-align: top;\n",
       "    }\n",
       "\n",
       "    .dataframe thead th {\n",
       "        text-align: right;\n",
       "    }\n",
       "</style>\n",
       "<table border=\"1\" class=\"dataframe\">\n",
       "  <thead>\n",
       "    <tr style=\"text-align: right;\">\n",
       "      <th></th>\n",
       "      <th>Unnamed: 0</th>\n",
       "      <th>id</th>\n",
       "      <th>track_name</th>\n",
       "      <th>size_bytes</th>\n",
       "      <th>currency</th>\n",
       "      <th>price</th>\n",
       "      <th>rating_count_tot</th>\n",
       "      <th>rating_count_ver</th>\n",
       "      <th>user_rating</th>\n",
       "      <th>user_rating_ver</th>\n",
       "      <th>ver</th>\n",
       "      <th>cont_rating</th>\n",
       "      <th>prime_genre</th>\n",
       "      <th>sup_devices.num</th>\n",
       "      <th>ipadSc_urls.num</th>\n",
       "      <th>lang.num</th>\n",
       "      <th>vpp_lic</th>\n",
       "    </tr>\n",
       "  </thead>\n",
       "  <tbody>\n",
       "    <tr>\n",
       "      <th>5603</th>\n",
       "      <td>7579</td>\n",
       "      <td>1089824278</td>\n",
       "      <td>VR Roller Coaster</td>\n",
       "      <td>240964608</td>\n",
       "      <td>USD</td>\n",
       "      <td>0.0</td>\n",
       "      <td>67</td>\n",
       "      <td>44</td>\n",
       "      <td>3.5</td>\n",
       "      <td>4.0</td>\n",
       "      <td>0.81</td>\n",
       "      <td>4+</td>\n",
       "      <td>Games</td>\n",
       "      <td>38</td>\n",
       "      <td>0</td>\n",
       "      <td>1</td>\n",
       "      <td>1</td>\n",
       "    </tr>\n",
       "    <tr>\n",
       "      <th>7128</th>\n",
       "      <td>10885</td>\n",
       "      <td>1178454060</td>\n",
       "      <td>Mannequin Challenge</td>\n",
       "      <td>59572224</td>\n",
       "      <td>USD</td>\n",
       "      <td>0.0</td>\n",
       "      <td>105</td>\n",
       "      <td>58</td>\n",
       "      <td>4.0</td>\n",
       "      <td>4.5</td>\n",
       "      <td>1.0.1</td>\n",
       "      <td>4+</td>\n",
       "      <td>Games</td>\n",
       "      <td>38</td>\n",
       "      <td>5</td>\n",
       "      <td>1</td>\n",
       "      <td>1</td>\n",
       "    </tr>\n",
       "  </tbody>\n",
       "</table>\n",
       "</div>"
      ],
      "text/plain": [
       "      Unnamed: 0          id           track_name  size_bytes currency  price  \\\n",
       "5603        7579  1089824278    VR Roller Coaster   240964608      USD    0.0   \n",
       "7128       10885  1178454060  Mannequin Challenge    59572224      USD    0.0   \n",
       "\n",
       "      rating_count_tot  rating_count_ver  user_rating  user_rating_ver    ver  \\\n",
       "5603                67                44          3.5              4.0   0.81   \n",
       "7128               105                58          4.0              4.5  1.0.1   \n",
       "\n",
       "     cont_rating prime_genre  sup_devices.num  ipadSc_urls.num  lang.num  \\\n",
       "5603          4+       Games               38                0         1   \n",
       "7128          4+       Games               38                5         1   \n",
       "\n",
       "      vpp_lic  \n",
       "5603        1  \n",
       "7128        1  "
      ]
     },
     "execution_count": 11,
     "metadata": {},
     "output_type": "execute_result"
    }
   ],
   "source": [
    "apple_store_df[apple_store_df.duplicated(subset='track_name')]"
   ]
  },
  {
   "cell_type": "markdown",
   "metadata": {},
   "source": [
    "#### Removing Non-Free Apps\n",
    "Since we are only interested in apps that are free to download and install, we will need to isolate out the free apps for our analysis."
   ]
  },
  {
   "cell_type": "code",
   "execution_count": 14,
   "metadata": {},
   "outputs": [
    {
     "name": "stdout",
     "output_type": "stream",
     "text": [
      "Removed 752 non-free apps from Google Play data\n",
      "Apps remaining in Google Play: 8862\n",
      "\n",
      "Removed 2961 non-free apps from Apple Store data\n",
      "Apps remaining in Apple Store: 3222\n"
     ]
    }
   ],
   "source": [
    "free_gs_df = google_store_df[google_store_df['Price'] == '0']\n",
    "free_ios_df = apple_store_df[apple_store_df['price'] == 0]\n",
    "\n",
    "print(removal_fs.format(len(google_store_df) - len(free_gs_df),\n",
    "                        'non-free',\n",
    "                        len(free_gs_df),\n",
    "                        len(apple_store_df) - len(free_ios_df),\n",
    "                        len(free_ios_df)))"
   ]
  },
  {
   "cell_type": "markdown",
   "metadata": {},
   "source": [
    "## Analysis\n",
    "\n",
    "Our aim is to identify the type of apps that attract the most users, because for an app that can be downloaded and used for free more active users means more advertising revenue.\n",
    "\n",
    "#### Most Popular App Genres\n",
    "We'll begin our analysis by getting a sense for the most common genres for each market by looking at frequency tables for the 'prime_genre' column of the iOS App Store data set, and the 'Genres' and 'Category' columns of the Google Play data set.\n",
    "\n",
    "Let's start by looking at the iOS apps."
   ]
  },
  {
   "cell_type": "code",
   "execution_count": 28,
   "metadata": {},
   "outputs": [
    {
     "data": {
      "text/plain": [
       "Games                58.162632\n",
       "Entertainment         7.883302\n",
       "Photo & Video         4.965860\n",
       "Education             3.662322\n",
       "Social Networking     3.289882\n",
       "Shopping              2.607076\n",
       "Utilities             2.513966\n",
       "Sports                2.141527\n",
       "Music                 2.048417\n",
       "Health & Fitness      2.017381\n",
       "Productivity          1.738051\n",
       "Lifestyle             1.582868\n",
       "News                  1.334575\n",
       "Travel                1.241465\n",
       "Finance               1.117318\n",
       "Weather               0.869025\n",
       "Food & Drink          0.806952\n",
       "Reference             0.558659\n",
       "Business              0.527623\n",
       "Book                  0.434513\n",
       "Medical               0.186220\n",
       "Navigation            0.186220\n",
       "Catalogs              0.124146\n",
       "Name: prime_genre, dtype: float64"
      ]
     },
     "execution_count": 28,
     "metadata": {},
     "output_type": "execute_result"
    }
   ],
   "source": [
    "def value_count_percent(column):\n",
    "    return column.value_counts() / len(column) * 100\n",
    "\n",
    "value_count_percent(free_ios_df['prime_genre'])"
   ]
  },
  {
   "cell_type": "markdown",
   "metadata": {},
   "source": [
    "Games is far and away the most popular genre in the Apple Store with nearly 60% of apps falling into this category trailed distantly by Entertainment at 8% and Photo & Video apps in third with 5%.\n",
    "\n",
    "The general impression is that the App Store is dominated by apps that are designed for fun (games, entertainment, photo and video, social networking, sports, music, etc.) while non-entertainment based apps are less common. However, that the most numerous apps are based around fun doesn't mean that they also have the greatest number of users.\n",
    "\n",
    "Now let's look at the Google Play apps."
   ]
  },
  {
   "cell_type": "code",
   "execution_count": 29,
   "metadata": {},
   "outputs": [
    {
     "data": {
      "text/plain": [
       "FAMILY                 18.957346\n",
       "GAME                    9.681787\n",
       "TOOLS                   8.451817\n",
       "BUSINESS                4.592643\n",
       "LIFESTYLE               3.904311\n",
       "PRODUCTIVITY            3.893026\n",
       "FINANCE                 3.701196\n",
       "MEDICAL                 3.520650\n",
       "SPORTS                  3.396524\n",
       "PERSONALIZATION         3.317536\n",
       "COMMUNICATION           3.238547\n",
       "HEALTH_AND_FITNESS      3.080569\n",
       "PHOTOGRAPHY             2.945159\n",
       "NEWS_AND_MAGAZINES      2.798465\n",
       "SOCIAL                  2.663056\n",
       "TRAVEL_AND_LOCAL        2.335816\n",
       "SHOPPING                2.245543\n",
       "BOOKS_AND_REFERENCE     2.143986\n",
       "DATING                  1.861882\n",
       "VIDEO_PLAYERS           1.794177\n",
       "MAPS_AND_NAVIGATION     1.399233\n",
       "FOOD_AND_DRINK          1.241255\n",
       "EDUCATION               1.162266\n",
       "ENTERTAINMENT           0.959151\n",
       "LIBRARIES_AND_DEMO      0.936583\n",
       "AUTO_AND_VEHICLES       0.925299\n",
       "HOUSE_AND_HOME          0.823742\n",
       "WEATHER                 0.801174\n",
       "EVENTS                  0.710900\n",
       "PARENTING               0.654480\n",
       "ART_AND_DESIGN          0.643196\n",
       "COMICS                  0.620627\n",
       "BEAUTY                  0.598059\n",
       "Name: Category, dtype: float64"
      ]
     },
     "execution_count": 29,
     "metadata": {},
     "output_type": "execute_result"
    }
   ],
   "source": [
    "value_count_percent(free_gs_df['Category'])"
   ]
  },
  {
   "cell_type": "markdown",
   "metadata": {},
   "source": [
    "The landscape seems significantly different on Google Play: there are not that many apps designed for fun, and it seems that a good number of apps are designed for practical purposes (family, tools, business, lifestyle, productivity, etc.). However, if we investigate this further, we can see that the family category (which accounts for almost 19% of the apps) means mostly games for kids.\n",
    "\n",
    "Even so, practical apps seem to have a better representation on Google Play compared to App Store. This picture is also confirmed by the frequency table we see for the Genres column:"
   ]
  },
  {
   "cell_type": "code",
   "execution_count": 30,
   "metadata": {},
   "outputs": [
    {
     "data": {
      "text/plain": [
       "Tools                                  8.440533\n",
       "Entertainment                          6.070864\n",
       "Education                              5.348680\n",
       "Business                               4.592643\n",
       "Productivity                           3.893026\n",
       "Lifestyle                              3.893026\n",
       "Finance                                3.701196\n",
       "Medical                                3.520650\n",
       "Sports                                 3.464229\n",
       "Personalization                        3.317536\n",
       "Communication                          3.238547\n",
       "Action                                 3.103137\n",
       "Health & Fitness                       3.080569\n",
       "Photography                            2.945159\n",
       "News & Magazines                       2.798465\n",
       "Social                                 2.663056\n",
       "Travel & Local                         2.324532\n",
       "Shopping                               2.245543\n",
       "Books & Reference                      2.143986\n",
       "Simulation                             2.042428\n",
       "Dating                                 1.861882\n",
       "Arcade                                 1.850598\n",
       "Video Players & Editors                1.771609\n",
       "Casual                                 1.749041\n",
       "Maps & Navigation                      1.399233\n",
       "Food & Drink                           1.241255\n",
       "Puzzle                                 1.128413\n",
       "Racing                                 0.993004\n",
       "Role Playing                           0.936583\n",
       "Libraries & Demo                       0.936583\n",
       "                                         ...   \n",
       "Entertainment;Pretend Play             0.022568\n",
       "Simulation;Pretend Play                0.022568\n",
       "Health & Fitness;Action & Adventure    0.011284\n",
       "Art & Design;Pretend Play              0.011284\n",
       "Puzzle;Education                       0.011284\n",
       "Simulation;Education                   0.011284\n",
       "Tools;Education                        0.011284\n",
       "Adventure;Education                    0.011284\n",
       "Lifestyle;Pretend Play                 0.011284\n",
       "Strategy;Action & Adventure            0.011284\n",
       "Communication;Creativity               0.011284\n",
       "Strategy;Education                     0.011284\n",
       "Trivia;Education                       0.011284\n",
       "Card;Brain Games                       0.011284\n",
       "Art & Design;Action & Adventure        0.011284\n",
       "Travel & Local;Action & Adventure      0.011284\n",
       "Lifestyle;Education                    0.011284\n",
       "Racing;Pretend Play                    0.011284\n",
       "Parenting;Brain Games                  0.011284\n",
       "Strategy;Creativity                    0.011284\n",
       "Arcade;Pretend Play                    0.011284\n",
       "Comics;Creativity                      0.011284\n",
       "Books & Reference;Education            0.011284\n",
       "Video Players & Editors;Creativity     0.011284\n",
       "Role Playing;Brain Games               0.011284\n",
       "Music & Audio;Music & Video            0.011284\n",
       "Card;Action & Adventure                0.011284\n",
       "Casual;Music & Video                   0.011284\n",
       "Health & Fitness;Education             0.011284\n",
       "Entertainment;Education                0.011284\n",
       "Name: Genres, Length: 115, dtype: float64"
      ]
     },
     "execution_count": 30,
     "metadata": {},
     "output_type": "execute_result"
    }
   ],
   "source": [
    "value_count_percent(free_gs_df['Genres'])"
   ]
  },
  {
   "cell_type": "markdown",
   "metadata": {},
   "source": [
    "The difference between the 'Category' and 'Genres' columns is not entirely clear, but one thing we can see is that the 'Genres' column is much more granular (it has more categories). Since we're only looking for the bigger picture at the moment, we'll only work with the Category column moving forward.\n",
    "\n",
    "Up to this point, we found that the App Store is dominated by apps designed for fun, while Google Play shows a slightly more balanced landscape of both practical and for-fun apps but still heavily leaning towards entertainment. Now we'd like to get an idea about the kind of apps that have most users."
   ]
  }
 ],
 "metadata": {
  "kernelspec": {
   "display_name": "Python 3",
   "language": "python",
   "name": "python3"
  },
  "language_info": {
   "codemirror_mode": {
    "name": "ipython",
    "version": 3
   },
   "file_extension": ".py",
   "mimetype": "text/x-python",
   "name": "python",
   "nbconvert_exporter": "python",
   "pygments_lexer": "ipython3",
   "version": "3.6.7"
  }
 },
 "nbformat": 4,
 "nbformat_minor": 2
}
